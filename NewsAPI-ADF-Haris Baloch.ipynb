{
 "cells": [
  {
   "cell_type": "code",
   "execution_count": 1,
   "id": "012efc08",
   "metadata": {},
   "outputs": [],
   "source": [
    "import requests\n",
    "import json\n",
    "import pprint"
   ]
  },
  {
   "cell_type": "code",
   "execution_count": 2,
   "id": "b66f7754",
   "metadata": {},
   "outputs": [],
   "source": [
    "# API key for the developer version of News API\n",
    "api_key = 'e4748ba8f53347c188d65211433a02b4'"
   ]
  },
  {
   "cell_type": "code",
   "execution_count": 3,
   "id": "80b21f86",
   "metadata": {},
   "outputs": [],
   "source": [
    "# API endpoint for retrieving news data\n",
    "url = 'https://newsapi.org/v2/top-headlines'"
   ]
  },
  {
   "cell_type": "code",
   "execution_count": 4,
   "id": "d4234984",
   "metadata": {},
   "outputs": [],
   "source": [
    "# Parameters for the API call\n",
    "params = {\n",
    "    'country': 'us',\n",
    "    'apiKey': api_key\n",
    "}"
   ]
  },
  {
   "cell_type": "code",
   "execution_count": 5,
   "id": "b20fd12a",
   "metadata": {},
   "outputs": [],
   "source": [
    "# Make the API call and retrieve the news data\n",
    "response = requests.get(url, params=params)\n",
    "data = response.json()"
   ]
  },
  {
   "cell_type": "code",
   "execution_count": 6,
   "id": "1cccf16e",
   "metadata": {},
   "outputs": [],
   "source": [
    "# Store the news data in a local text file\n",
    "with open('news_data.txt', 'w') as f:\n",
    "    json.dump(data, f)"
   ]
  },
  {
   "cell_type": "code",
   "execution_count": 7,
   "id": "6fe2786c",
   "metadata": {},
   "outputs": [
    {
     "name": "stdout",
     "output_type": "stream",
     "text": [
      "{'articles': [{'author': None,\n",
      "               'publishedAt': '2023-01-24T12:22:00Z',\n",
      "               'source': {'Id': 'reuters', 'Name': 'Reuters'},\n",
      "               'title': 'Ukraine purges officials and governors in biggest '\n",
      "                        'shakeup of war - Reuters',\n",
      "               'url': 'https://www.reuters.com/world/europe/ukraine-pledges-sweeping-personnel-changes-allies-jostle-over-tanks-2023-01-23/'},\n",
      "              {'author': 'https://www.facebook.com/bbcnews',\n",
      "               'publishedAt': '2023-01-24T12:11:36Z',\n",
      "               'source': {'Id': None, 'Name': 'BBC News'},\n",
      "               'title': 'Monterey Park shooting: Who were the victims? - BBC',\n",
      "               'url': 'https://www.bbc.com/news/world-us-canada-64380649'},\n",
      "              {'author': 'https://www.facebook.com/bbcnews',\n",
      "               'publishedAt': '2023-01-24T11:11:31Z',\n",
      "               'source': {'Id': None, 'Name': 'BBC News'},\n",
      "               'title': 'Elon Musk says Tesla tweet was genuine in fraud case '\n",
      "                        '- BBC',\n",
      "               'url': 'https://www.bbc.com/news/business-64384278'},\n",
      "              {'author': None,\n",
      "               'publishedAt': '2023-01-24T10:41:15Z',\n",
      "               'source': {'Id': None, 'Name': 'WPVI-TV'},\n",
      "               'title': 'Tuberculosis positive case found at Penn Wood Middle '\n",
      "                        'School in Darby, Delaware County - WPVI-TV',\n",
      "               'url': 'https://6abc.com/penn-wood-middle-school-tuberculosis-delaware-county-department-of-health-william-district-tb-spread/12730314/'},\n",
      "              {'author': 'Alexis Walters',\n",
      "               'publishedAt': '2023-01-24T10:11:31Z',\n",
      "               'source': {'Id': None, 'Name': 'fox8.com'},\n",
      "               'title': 'Winter storm watch: Snow, gusty winds ahead - WJW FOX '\n",
      "                        '8 News Cleveland',\n",
      "               'url': 'https://fox8.com/weather/winter-storm-watch-snow-gusty-winds-ahead/'},\n",
      "              {'author': 'Sandee LaMotte',\n",
      "               'publishedAt': '2023-01-24T09:22:00Z',\n",
      "               'source': {'Id': 'cnn', 'Name': 'CNN'},\n",
      "               'title': 'Midriff bulge linked to later physical decline, study '\n",
      "                        'says - CNN',\n",
      "               'url': 'https://www.cnn.com/2023/01/24/health/midriff-bulge-physical-frailty-wellness/index.html'},\n",
      "              {'author': None,\n",
      "               'publishedAt': '2023-01-24T08:48:00Z',\n",
      "               'source': {'Id': 'reuters', 'Name': 'Reuters'},\n",
      "               'title': \"New Zealand's Ardern bids emotional farewell on last \"\n",
      "                        'day as prime minister - Reuters',\n",
      "               'url': 'https://www.reuters.com/world/asia-pacific/new-zealands-ardern-bids-emotional-farewell-last-day-prime-minister-2023-01-24/'},\n",
      "              {'author': 'Sabine Kinkartz',\n",
      "               'publishedAt': '2023-01-24T07:38:06Z',\n",
      "               'source': {'Id': None, 'Name': 'DW (English)'},\n",
      "               'title': 'Why Germany hesitates on sending battle tanks to '\n",
      "                        'Ukraine - DW (English)',\n",
      "               'url': 'https://www.dw.com/en/why-german-chancellor-olaf-scholz-is-hesitant-about-delivering-battle-tanks-to-ukraine/a-64493249'},\n",
      "              {'author': 'SamMobile, Asif Iqbal Shaik',\n",
      "               'publishedAt': '2023-01-24T06:33:00Z',\n",
      "               'source': {'Id': None, 'Name': 'SamMobile'},\n",
      "               'title': 'Samsung Galaxy S24 could use special Snapdragon '\n",
      "                        'processor - SamMobile - Samsung news',\n",
      "               'url': 'https://www.sammobile.com/news/samsung-galaxy-s24-special-snapdragon-chip/'},\n",
      "              {'author': 'Katie Bo Lillis, Natasha Bertrand, Alex Marquardt, '\n",
      "                         'Kylie Atwood',\n",
      "               'publishedAt': '2023-01-24T04:20:00Z',\n",
      "               'source': {'Id': 'cnn', 'Name': 'CNN'},\n",
      "               'title': 'Biden administration raised concerns with Beijing '\n",
      "                        \"over Chinese companies' non-lethal aid in Russian war \"\n",
      "                        'effort - CNN',\n",
      "               'url': 'https://www.cnn.com/2023/01/23/politics/china-nonlethal-aid-russia-biden-administration/index.html'},\n",
      "              {'author': 'Nick Selbe',\n",
      "               'publishedAt': '2023-01-24T03:48:54Z',\n",
      "               'source': {'Id': None, 'Name': 'Sports Illustrated'},\n",
      "               'title': 'Cowboys Twitter Account Gets Called Out for Dak '\n",
      "                        'Prescott Tweet - Sports Illustrated',\n",
      "               'url': 'https://www.si.com/extra-mustard/2023/01/24/cowboys-twitter-account-called-out-dak-prescott-tweet'},\n",
      "              {'author': None,\n",
      "               'publishedAt': '2023-01-24T01:30:16Z',\n",
      "               'source': {'Id': None, 'Name': 'YouTube'},\n",
      "               'title': \"Lisa Marie Presley's Funeral: Inside the Emotional \"\n",
      "                        'Memorial - Entertainment Tonight',\n",
      "               'url': 'https://www.youtube.com/watch?v=W0IxfNU02nI'},\n",
      "              {'author': None,\n",
      "               'publishedAt': '2023-01-24T01:07:00Z',\n",
      "               'source': {'Id': 'google-news', 'Name': 'Google News'},\n",
      "               'title': 'Earth’s inner core may have ‘paused’ its rotation and '\n",
      "                        'reversed, new study suggests - The Hill',\n",
      "               'url': 'https://news.google.com/__i/rss/rd/articles/CBMihwFodHRwczovL3RoZWhpbGwuY29tL2hvbWVuZXdzL25leHN0YXJfbWVkaWFfd2lyZS8zODI3MjQ0LWVhcnRocy1pbm5lci1jb3JlLW1heS1oYXZlLXBhdXNlZC1pdHMtcm90YXRpb24tYW5kLXJldmVyc2VkLW5ldy1zdHVkeS1zdWdnZXN0cy_SAYsBaHR0cHM6Ly90aGVoaWxsLmNvbS9ob21lbmV3cy9uZXhzdGFyX21lZGlhX3dpcmUvMzgyNzI0NC1lYXJ0aHMtaW5uZXItY29yZS1tYXktaGF2ZS1wYXVzZWQtaXRzLXJvdGF0aW9uLWFuZC1yZXZlcnNlZC1uZXctc3R1ZHktc3VnZ2VzdHMvYW1wLw?oc=5'},\n",
      "              {'author': 'Raechal Shewfelt',\n",
      "               'publishedAt': '2023-01-24T00:57:00Z',\n",
      "               'source': {'Id': None, 'Name': 'Yahoo Entertainment'},\n",
      "               'title': \"Pamela Anderson says she has 'no ill will' toward Tim \"\n",
      "                        \"Allen after he denies alleged 'Home Improvement' \"\n",
      "                        'flashing - Yahoo Entertainment',\n",
      "               'url': 'https://www.yahoo.com/entertainment/pamela-anderson-says-she-has-no-ill-will-toward-tim-allen-after-he-denies-alleged-home-improvement-flashing-005704691.html'},\n",
      "              {'author': None,\n",
      "               'publishedAt': '2023-01-23T23:30:27Z',\n",
      "               'source': {'Id': None, 'Name': 'YouTube'},\n",
      "               'title': 'Two students killed at Iowa charter school shooting - '\n",
      "                        'NBC News',\n",
      "               'url': 'https://www.youtube.com/watch?v=vsOHustpTt0'},\n",
      "              {'author': 'Sandee LaMotte',\n",
      "               'publishedAt': '2023-01-23T23:30:00Z',\n",
      "               'source': {'Id': 'cnn', 'Name': 'CNN'},\n",
      "               'title': 'One type of physical activity protects the brain more '\n",
      "                        'than others, study finds - CNN',\n",
      "               'url': 'https://www.cnn.com/2023/01/23/health/physical-activity-type-cognition-wellness/index.html'},\n",
      "              {'author': None,\n",
      "               'publishedAt': '2023-01-23T23:14:25Z',\n",
      "               'source': {'Id': None, 'Name': 'YouTube'},\n",
      "               'title': \"Dallas Zoo, police investigating vulture's death \"\n",
      "                        'after endangered bird is found with \"wound\" inside - '\n",
      "                        'FOX 4 Dallas-Fort Worth',\n",
      "               'url': 'https://www.youtube.com/watch?v=XMbXMKb-uI4'}],\n",
      " 'status': 'ok',\n",
      " 'totalResults': 0}\n"
     ]
    }
   ],
   "source": [
    "pprint.pprint(data)"
   ]
  },
  {
   "cell_type": "code",
   "execution_count": null,
   "id": "1946efe9",
   "metadata": {},
   "outputs": [],
   "source": []
  }
 ],
 "metadata": {
  "kernelspec": {
   "display_name": "Python 3 (ipykernel)",
   "language": "python",
   "name": "python3"
  },
  "language_info": {
   "codemirror_mode": {
    "name": "ipython",
    "version": 3
   },
   "file_extension": ".py",
   "mimetype": "text/x-python",
   "name": "python",
   "nbconvert_exporter": "python",
   "pygments_lexer": "ipython3",
   "version": "3.9.12"
  }
 },
 "nbformat": 4,
 "nbformat_minor": 5
}
